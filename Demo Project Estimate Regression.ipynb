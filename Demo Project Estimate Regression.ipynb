{
 "cells": [
  {
   "cell_type": "markdown",
   "id": "1cbda8ee-ce9f-45e4-8f86-927329807b57",
   "metadata": {},
   "source": [
    "### IMPORT SNOWFLAKE SESSION, FUNCTIONS, DATA TYPES AND OTHER PYTHON LIBRARIES"
   ]
  },
  {
   "cell_type": "code",
   "execution_count": 1,
   "id": "9c58581a-2268-44db-8a6d-b5d6723533cd",
   "metadata": {},
   "outputs": [
    {
     "name": "stdout",
     "output_type": "stream",
     "text": [
      "snowflake snowpark version is: (0, 10, 0)\n"
     ]
    }
   ],
   "source": [
    "# Import required libraries\n",
    "from snowflake.snowpark.session import Session\n",
    "from snowflake.snowpark.functions import avg, sum, col,lit\n",
    "from snowflake.snowpark.functions import udf, sproc, col\n",
    "from snowflake.snowpark.types import IntegerType, FloatType, LongType, DoubleType, DecimalType,StringType, BooleanType, Variant\n",
    "from snowflake.snowpark.types import PandasSeries, PandasDataFrame\n",
    "from snowflake.snowpark import functions as fn\n",
    "\n",
    "import pandas as pd\n",
    "import numpy as np\n",
    "import json\n",
    "\n",
    "from snowflake.snowpark import version\n",
    "print (f\"snowflake snowpark version is: {version.VERSION}\")"
   ]
  },
  {
   "cell_type": "markdown",
   "id": "e5e6d51d-dd3d-4c10-a5cf-6f76fb38dd6e",
   "metadata": {},
   "source": [
    "### SET UP SNOWFLAKE CONNECTION USING THE CREDENTIALS & PRINT CURRENT DB, SCHEMA AND WAREHOUSE"
   ]
  },
  {
   "cell_type": "code",
   "execution_count": 2,
   "id": "81d039e5-8858-495b-98ec-716ac436731c",
   "metadata": {},
   "outputs": [
    {
     "name": "stdout",
     "output_type": "stream",
     "text": [
      "Current Database: \"BANK1_CRM_DB\"\n",
      "Current Schema: \"PUBLIC\"\n",
      "Current Warehouse: \"APP_WH\"\n"
     ]
    }
   ],
   "source": [
    "snowflake_connection_cfg = open('cred.json')\n",
    "snowflake_connection_cfg = snowflake_connection_cfg.read()\n",
    "snowflake_connection_cfg = json.loads(snowflake_connection_cfg)\n",
    "\n",
    "# Creating Snowpark Session\n",
    "spe_session = Session.builder.configs(snowflake_connection_cfg).create()\n",
    "print('Current Database:', spe_session.get_current_database())\n",
    "print('Current Schema:', spe_session.get_current_schema())\n",
    "print('Current Warehouse:', spe_session.get_current_warehouse())"
   ]
  },
  {
   "cell_type": "markdown",
   "id": "e913143b-35f7-4302-abc6-c85cb041dd93",
   "metadata": {},
   "source": [
    "### REMOVE ALL IMPORTS AND PACKAGES IN CURRENT SESSION AND ADD THE NEEDED PACKAGES INCLUDING SNOWFLAKE-SNOWFPARK FOR PYTHON"
   ]
  },
  {
   "cell_type": "code",
   "execution_count": 3,
   "id": "497d8fe2-3caa-445f-9c27-4a82f7f2a136",
   "metadata": {},
   "outputs": [],
   "source": [
    "spe_session.clear_imports()\n",
    "spe_session.clear_packages()\n",
    "spe_session.add_packages(\"snowflake-snowpark-python\")\n",
    "spe_session.add_packages(\"scikit-learn\",\"pandas\",\"numpy\",\"joblib\",\"cachetools\")"
   ]
  },
  {
   "cell_type": "markdown",
   "id": "982d4ac8-dfde-4d05-9a0b-33367f477508",
   "metadata": {},
   "source": [
    "### CREATE A NEW INTERNAL SNOWFLAKE STAGE LOCATION TO SAVE THE MODEL FILE LATER"
   ]
  },
  {
   "cell_type": "code",
   "execution_count": 4,
   "id": "108d948f-7907-450f-a9a6-d57d9d892ca2",
   "metadata": {},
   "outputs": [
    {
     "data": {
      "text/plain": [
       "[Row(status='Stage area KNADADUR_MODELS successfully created.')]"
      ]
     },
     "execution_count": 4,
     "metadata": {},
     "output_type": "execute_result"
    }
   ],
   "source": [
    "spe_session.sql(\"CREATE OR REPLACE STAGE knadadur_models\").collect()"
   ]
  },
  {
   "cell_type": "code",
   "execution_count": 5,
   "id": "e74adafb-f5a1-462f-952a-d456d40e35ab",
   "metadata": {},
   "outputs": [
    {
     "data": {
      "text/plain": [
       "[]"
      ]
     },
     "execution_count": 5,
     "metadata": {},
     "output_type": "execute_result"
    }
   ],
   "source": [
    "spe_session.sql(\"list @knadadur_models\").collect()"
   ]
  },
  {
   "cell_type": "markdown",
   "id": "c9ba93e8-7174-441e-827c-57b39cd37eb6",
   "metadata": {},
   "source": [
    "### CREATE A NEW INTERNAL SNOWFLAKE STAGE LOCATION TO SAVE THE INPUT DATA FILE"
   ]
  },
  {
   "cell_type": "code",
   "execution_count": null,
   "id": "a0bdbafd-2b32-4ff8-9b7c-5926561837cf",
   "metadata": {},
   "outputs": [],
   "source": [
    "spe_session.sql(\"CREATE STAGE IF NOT EXISTS knadadur_data\").collect()"
   ]
  },
  {
   "cell_type": "markdown",
   "id": "32fb4ebb-90fd-480d-b636-bb0843ee6f86",
   "metadata": {},
   "source": [
    "### MAKE SURE YOU ARE LOCATE LOCAL DATA FILE AND LOAD IT TO INTERNAL STAGE"
   ]
  },
  {
   "cell_type": "code",
   "execution_count": 6,
   "id": "e10ccf4f-6aa9-45d1-8f71-62e3c47cfaf5",
   "metadata": {},
   "outputs": [
    {
     "data": {
      "text/plain": [
       "'/Users/knadadur/Documents/Snowparkusecases/SoftwareProjectEstimation/softwareprojectsdata.csv'"
      ]
     },
     "execution_count": 6,
     "metadata": {},
     "output_type": "execute_result"
    }
   ],
   "source": [
    "folder_path = \"/Users/knadadur/Documents/Snowparkusecases/SoftwareProjectEstimation/\"\n",
    "input_file = \"softwareprojectsdata.csv\"\n",
    "input_data = folder_path+input_file\n",
    "input_data"
   ]
  },
  {
   "cell_type": "code",
   "execution_count": null,
   "id": "964055ae-c3ce-4a87-be1e-f46a25c18007",
   "metadata": {},
   "outputs": [],
   "source": [
    "spe_session.sql(\"put file:///Users/knadadur/Documents/Snowparkusecases/SoftwareProjectEstimation/softwareprojectsdata.csv @knadadur_data\").collect();"
   ]
  },
  {
   "cell_type": "code",
   "execution_count": 7,
   "id": "233ac193-9012-4650-b103-14ac0501462d",
   "metadata": {},
   "outputs": [
    {
     "data": {
      "text/html": [
       "<div>\n",
       "<style scoped>\n",
       "    .dataframe tbody tr th:only-of-type {\n",
       "        vertical-align: middle;\n",
       "    }\n",
       "\n",
       "    .dataframe tbody tr th {\n",
       "        vertical-align: top;\n",
       "    }\n",
       "\n",
       "    .dataframe thead th {\n",
       "        text-align: right;\n",
       "    }\n",
       "</style>\n",
       "<table border=\"1\" class=\"dataframe\">\n",
       "  <thead>\n",
       "    <tr style=\"text-align: right;\">\n",
       "      <th></th>\n",
       "      <th>id</th>\n",
       "      <th>Project</th>\n",
       "      <th>TeamExp</th>\n",
       "      <th>ManagerExp</th>\n",
       "      <th>YearEnd</th>\n",
       "      <th>Length</th>\n",
       "      <th>Effort</th>\n",
       "      <th>Transactions</th>\n",
       "      <th>Entities</th>\n",
       "      <th>PointsNonAdjust</th>\n",
       "      <th>Adjustment</th>\n",
       "      <th>PointsAjust</th>\n",
       "      <th>Language</th>\n",
       "    </tr>\n",
       "  </thead>\n",
       "  <tbody>\n",
       "    <tr>\n",
       "      <th>0</th>\n",
       "      <td>1</td>\n",
       "      <td>1</td>\n",
       "      <td>1</td>\n",
       "      <td>4</td>\n",
       "      <td>85</td>\n",
       "      <td>12</td>\n",
       "      <td>5152</td>\n",
       "      <td>253</td>\n",
       "      <td>52</td>\n",
       "      <td>305</td>\n",
       "      <td>34</td>\n",
       "      <td>302</td>\n",
       "      <td>1</td>\n",
       "    </tr>\n",
       "    <tr>\n",
       "      <th>1</th>\n",
       "      <td>2</td>\n",
       "      <td>2</td>\n",
       "      <td>0</td>\n",
       "      <td>0</td>\n",
       "      <td>86</td>\n",
       "      <td>4</td>\n",
       "      <td>5635</td>\n",
       "      <td>197</td>\n",
       "      <td>124</td>\n",
       "      <td>321</td>\n",
       "      <td>33</td>\n",
       "      <td>315</td>\n",
       "      <td>1</td>\n",
       "    </tr>\n",
       "    <tr>\n",
       "      <th>2</th>\n",
       "      <td>3</td>\n",
       "      <td>3</td>\n",
       "      <td>4</td>\n",
       "      <td>4</td>\n",
       "      <td>85</td>\n",
       "      <td>1</td>\n",
       "      <td>805</td>\n",
       "      <td>40</td>\n",
       "      <td>60</td>\n",
       "      <td>100</td>\n",
       "      <td>18</td>\n",
       "      <td>83</td>\n",
       "      <td>1</td>\n",
       "    </tr>\n",
       "    <tr>\n",
       "      <th>3</th>\n",
       "      <td>4</td>\n",
       "      <td>4</td>\n",
       "      <td>0</td>\n",
       "      <td>0</td>\n",
       "      <td>86</td>\n",
       "      <td>5</td>\n",
       "      <td>3829</td>\n",
       "      <td>200</td>\n",
       "      <td>119</td>\n",
       "      <td>319</td>\n",
       "      <td>30</td>\n",
       "      <td>303</td>\n",
       "      <td>1</td>\n",
       "    </tr>\n",
       "    <tr>\n",
       "      <th>4</th>\n",
       "      <td>5</td>\n",
       "      <td>5</td>\n",
       "      <td>0</td>\n",
       "      <td>0</td>\n",
       "      <td>86</td>\n",
       "      <td>4</td>\n",
       "      <td>2149</td>\n",
       "      <td>140</td>\n",
       "      <td>94</td>\n",
       "      <td>234</td>\n",
       "      <td>24</td>\n",
       "      <td>208</td>\n",
       "      <td>1</td>\n",
       "    </tr>\n",
       "    <tr>\n",
       "      <th>...</th>\n",
       "      <td>...</td>\n",
       "      <td>...</td>\n",
       "      <td>...</td>\n",
       "      <td>...</td>\n",
       "      <td>...</td>\n",
       "      <td>...</td>\n",
       "      <td>...</td>\n",
       "      <td>...</td>\n",
       "      <td>...</td>\n",
       "      <td>...</td>\n",
       "      <td>...</td>\n",
       "      <td>...</td>\n",
       "      <td>...</td>\n",
       "    </tr>\n",
       "    <tr>\n",
       "      <th>76</th>\n",
       "      <td>77</td>\n",
       "      <td>77</td>\n",
       "      <td>4</td>\n",
       "      <td>4</td>\n",
       "      <td>85</td>\n",
       "      <td>12</td>\n",
       "      <td>1400</td>\n",
       "      <td>229</td>\n",
       "      <td>169</td>\n",
       "      <td>398</td>\n",
       "      <td>39</td>\n",
       "      <td>414</td>\n",
       "      <td>3</td>\n",
       "    </tr>\n",
       "    <tr>\n",
       "      <th>77</th>\n",
       "      <td>78</td>\n",
       "      <td>78</td>\n",
       "      <td>4</td>\n",
       "      <td>3</td>\n",
       "      <td>83</td>\n",
       "      <td>12</td>\n",
       "      <td>2800</td>\n",
       "      <td>227</td>\n",
       "      <td>73</td>\n",
       "      <td>300</td>\n",
       "      <td>34</td>\n",
       "      <td>297</td>\n",
       "      <td>1</td>\n",
       "    </tr>\n",
       "    <tr>\n",
       "      <th>78</th>\n",
       "      <td>79</td>\n",
       "      <td>79</td>\n",
       "      <td>4</td>\n",
       "      <td>4</td>\n",
       "      <td>82</td>\n",
       "      <td>24</td>\n",
       "      <td>9520</td>\n",
       "      <td>395</td>\n",
       "      <td>193</td>\n",
       "      <td>588</td>\n",
       "      <td>40</td>\n",
       "      <td>617</td>\n",
       "      <td>1</td>\n",
       "    </tr>\n",
       "    <tr>\n",
       "      <th>79</th>\n",
       "      <td>80</td>\n",
       "      <td>80</td>\n",
       "      <td>4</td>\n",
       "      <td>3</td>\n",
       "      <td>86</td>\n",
       "      <td>12</td>\n",
       "      <td>5880</td>\n",
       "      <td>469</td>\n",
       "      <td>176</td>\n",
       "      <td>645</td>\n",
       "      <td>43</td>\n",
       "      <td>697</td>\n",
       "      <td>3</td>\n",
       "    </tr>\n",
       "    <tr>\n",
       "      <th>80</th>\n",
       "      <td>81</td>\n",
       "      <td>81</td>\n",
       "      <td>4</td>\n",
       "      <td>4</td>\n",
       "      <td>85</td>\n",
       "      <td>36</td>\n",
       "      <td>23940</td>\n",
       "      <td>886</td>\n",
       "      <td>241</td>\n",
       "      <td>1127</td>\n",
       "      <td>34</td>\n",
       "      <td>1116</td>\n",
       "      <td>1</td>\n",
       "    </tr>\n",
       "  </tbody>\n",
       "</table>\n",
       "<p>81 rows × 13 columns</p>\n",
       "</div>"
      ],
      "text/plain": [
       "    id  Project  TeamExp  ManagerExp  YearEnd  Length  Effort  Transactions  \\\n",
       "0    1        1        1           4       85      12    5152           253   \n",
       "1    2        2        0           0       86       4    5635           197   \n",
       "2    3        3        4           4       85       1     805            40   \n",
       "3    4        4        0           0       86       5    3829           200   \n",
       "4    5        5        0           0       86       4    2149           140   \n",
       "..  ..      ...      ...         ...      ...     ...     ...           ...   \n",
       "76  77       77        4           4       85      12    1400           229   \n",
       "77  78       78        4           3       83      12    2800           227   \n",
       "78  79       79        4           4       82      24    9520           395   \n",
       "79  80       80        4           3       86      12    5880           469   \n",
       "80  81       81        4           4       85      36   23940           886   \n",
       "\n",
       "    Entities  PointsNonAdjust  Adjustment  PointsAjust  Language  \n",
       "0         52              305          34          302         1  \n",
       "1        124              321          33          315         1  \n",
       "2         60              100          18           83         1  \n",
       "3        119              319          30          303         1  \n",
       "4         94              234          24          208         1  \n",
       "..       ...              ...         ...          ...       ...  \n",
       "76       169              398          39          414         3  \n",
       "77        73              300          34          297         1  \n",
       "78       193              588          40          617         1  \n",
       "79       176              645          43          697         3  \n",
       "80       241             1127          34         1116         1  \n",
       "\n",
       "[81 rows x 13 columns]"
      ]
     },
     "execution_count": 7,
     "metadata": {},
     "output_type": "execute_result"
    }
   ],
   "source": [
    "pd.read_csv(input_file)"
   ]
  },
  {
   "cell_type": "markdown",
   "id": "15668d84-e653-4838-906c-d4c8bf947e9c",
   "metadata": {},
   "source": [
    "### CHECK IF THE FILE HAS BEEN UPLOADED TO INTERNAL STAGE"
   ]
  },
  {
   "cell_type": "code",
   "execution_count": 8,
   "id": "426516f0-e660-4602-ae97-6b8e287aaeb4",
   "metadata": {},
   "outputs": [
    {
     "data": {
      "text/plain": [
       "[Row(name='knadadur_data/EcommerceCustomers.csv.gz', size=33792, md5='57705477516e68ab8b3c8401a73deb8c', last_modified='Thu, 3 Nov 2022 17:13:04 GMT'),\n",
       " Row(name='knadadur_data/softwareprojectsdata.csv.gz', size=1664, md5='54d6a4fb52738250c895b3e18b47df36', last_modified='Mon, 7 Nov 2022 19:33:43 GMT')]"
      ]
     },
     "execution_count": 8,
     "metadata": {},
     "output_type": "execute_result"
    }
   ],
   "source": [
    "spe_session.sql(\"list @knadadur_data\").collect()"
   ]
  },
  {
   "cell_type": "markdown",
   "id": "9a653080-84c9-4bb4-b06a-36ae2599735a",
   "metadata": {},
   "source": [
    "### CREATE A TABLE IN DATABASE AS WE KNOW THE STRUCTURE"
   ]
  },
  {
   "cell_type": "code",
   "execution_count": 9,
   "id": "084ae2aa-9d2d-4282-9cac-93b471b9ea18",
   "metadata": {},
   "outputs": [
    {
     "data": {
      "text/plain": [
       "[Row(status='Table SOFTWARE_PROJECTS successfully created.')]"
      ]
     },
     "execution_count": 9,
     "metadata": {},
     "output_type": "execute_result"
    }
   ],
   "source": [
    "spe_session.sql(\"CREATE OR REPLACE table SOFTWARE_PROJECTS (ID VARCHAR,PROJECT VARCHAR,TEAMEXP NUMBER,MANAGEREXP NUMBER,YEAREND NUMBER,LENGTH NUMBER,EFFORT NUMBER,TRANSACTIONS NUMBER,ENTITIES NUMBER,POINTNONADJUST NUMBER,ADJUSTMENT NUMBER,POINTSADJUST NUMBER,LANGUAGE NUMBER)\").collect()"
   ]
  },
  {
   "cell_type": "markdown",
   "id": "8363fc1d-8011-4100-9d8f-1c1a642cee82",
   "metadata": {},
   "source": [
    "### NOW LET'S LOAD THE DATA FROM INTERNAL STAGE TO THE software_projects DATABASE TABLE IN SNOWFLAKE"
   ]
  },
  {
   "cell_type": "code",
   "execution_count": 10,
   "id": "f65bc85d-8c98-4de5-a08e-18b3c40e02bb",
   "metadata": {},
   "outputs": [
    {
     "data": {
      "text/plain": [
       "[Row(file='knadadur_data/softwareprojectsdata.csv.gz', status='PARTIALLY_LOADED', rows_parsed=82, rows_loaded=81, error_limit=82, errors_seen=1, first_error=\"Numeric value 'TeamExp' is not recognized\", first_error_line=1, first_error_character=13, first_error_column_name='\"SOFTWARE_PROJECTS\"[\"TEAMEXP\":3]')]"
      ]
     },
     "execution_count": 10,
     "metadata": {},
     "output_type": "execute_result"
    }
   ],
   "source": [
    "spe_session.sql(\"copy into SOFTWARE_PROJECTS from @knadadur_data/softwareprojectsdata.csv.gz ON_ERROR = CONTINUE\").collect()"
   ]
  },
  {
   "cell_type": "markdown",
   "id": "473746b4-0abe-46c5-bb25-5de436d7ec4d",
   "metadata": {},
   "source": [
    "### CHECK THE DATA AND CHECK SOME STATS"
   ]
  },
  {
   "cell_type": "code",
   "execution_count": 11,
   "id": "846233d5-606e-42ca-befc-992d7e74b90e",
   "metadata": {},
   "outputs": [
    {
     "name": "stdout",
     "output_type": "stream",
     "text": [
      "Rows in dataset: 81\n",
      "Data before imputation:\n"
     ]
    },
    {
     "data": {
      "text/html": [
       "<div>\n",
       "<style scoped>\n",
       "    .dataframe tbody tr th:only-of-type {\n",
       "        vertical-align: middle;\n",
       "    }\n",
       "\n",
       "    .dataframe tbody tr th {\n",
       "        vertical-align: top;\n",
       "    }\n",
       "\n",
       "    .dataframe thead th {\n",
       "        text-align: right;\n",
       "    }\n",
       "</style>\n",
       "<table border=\"1\" class=\"dataframe\">\n",
       "  <thead>\n",
       "    <tr style=\"text-align: right;\">\n",
       "      <th></th>\n",
       "      <th>SUMMARY</th>\n",
       "      <th>ID</th>\n",
       "      <th>PROJECT</th>\n",
       "      <th>TEAMEXP</th>\n",
       "      <th>MANAGEREXP</th>\n",
       "      <th>YEAREND</th>\n",
       "      <th>LENGTH</th>\n",
       "      <th>EFFORT</th>\n",
       "      <th>TRANSACTIONS</th>\n",
       "      <th>ENTITIES</th>\n",
       "      <th>POINTNONADJUST</th>\n",
       "      <th>ADJUSTMENT</th>\n",
       "      <th>POINTSADJUST</th>\n",
       "      <th>LANGUAGE</th>\n",
       "    </tr>\n",
       "  </thead>\n",
       "  <tbody>\n",
       "    <tr>\n",
       "      <th>0</th>\n",
       "      <td>count</td>\n",
       "      <td>81</td>\n",
       "      <td>81</td>\n",
       "      <td>81.000000</td>\n",
       "      <td>81.000000</td>\n",
       "      <td>81.000000</td>\n",
       "      <td>81.000000</td>\n",
       "      <td>81.000000</td>\n",
       "      <td>81.000000</td>\n",
       "      <td>81.000000</td>\n",
       "      <td>81.000000</td>\n",
       "      <td>81.000000</td>\n",
       "      <td>81.000000</td>\n",
       "      <td>81.000000</td>\n",
       "    </tr>\n",
       "    <tr>\n",
       "      <th>1</th>\n",
       "      <td>max</td>\n",
       "      <td>9</td>\n",
       "      <td>9</td>\n",
       "      <td>4.000000</td>\n",
       "      <td>7.000000</td>\n",
       "      <td>88.000000</td>\n",
       "      <td>39.000000</td>\n",
       "      <td>23940.000000</td>\n",
       "      <td>886.000000</td>\n",
       "      <td>387.000000</td>\n",
       "      <td>1127.000000</td>\n",
       "      <td>52.000000</td>\n",
       "      <td>1116.000000</td>\n",
       "      <td>3.000000</td>\n",
       "    </tr>\n",
       "    <tr>\n",
       "      <th>2</th>\n",
       "      <td>mean</td>\n",
       "      <td>None</td>\n",
       "      <td>None</td>\n",
       "      <td>2.185185</td>\n",
       "      <td>2.530864</td>\n",
       "      <td>85.740741</td>\n",
       "      <td>11.666667</td>\n",
       "      <td>5046.308642</td>\n",
       "      <td>182.123457</td>\n",
       "      <td>122.333333</td>\n",
       "      <td>304.456790</td>\n",
       "      <td>27.629630</td>\n",
       "      <td>289.234568</td>\n",
       "      <td>1.555556</td>\n",
       "    </tr>\n",
       "    <tr>\n",
       "      <th>3</th>\n",
       "      <td>min</td>\n",
       "      <td>1</td>\n",
       "      <td>1</td>\n",
       "      <td>-1.000000</td>\n",
       "      <td>-1.000000</td>\n",
       "      <td>82.000000</td>\n",
       "      <td>1.000000</td>\n",
       "      <td>546.000000</td>\n",
       "      <td>9.000000</td>\n",
       "      <td>7.000000</td>\n",
       "      <td>73.000000</td>\n",
       "      <td>5.000000</td>\n",
       "      <td>62.000000</td>\n",
       "      <td>1.000000</td>\n",
       "    </tr>\n",
       "    <tr>\n",
       "      <th>4</th>\n",
       "      <td>stddev</td>\n",
       "      <td>None</td>\n",
       "      <td>None</td>\n",
       "      <td>1.415195</td>\n",
       "      <td>1.643825</td>\n",
       "      <td>1.222475</td>\n",
       "      <td>7.424621</td>\n",
       "      <td>4418.767228</td>\n",
       "      <td>144.035098</td>\n",
       "      <td>84.882124</td>\n",
       "      <td>180.210159</td>\n",
       "      <td>10.591795</td>\n",
       "      <td>185.761088</td>\n",
       "      <td>0.707107</td>\n",
       "    </tr>\n",
       "  </tbody>\n",
       "</table>\n",
       "</div>"
      ],
      "text/plain": [
       "  SUMMARY    ID PROJECT    TEAMEXP  MANAGEREXP    YEAREND     LENGTH  \\\n",
       "0   count    81      81  81.000000   81.000000  81.000000  81.000000   \n",
       "1     max     9       9   4.000000    7.000000  88.000000  39.000000   \n",
       "2    mean  None    None   2.185185    2.530864  85.740741  11.666667   \n",
       "3     min     1       1  -1.000000   -1.000000  82.000000   1.000000   \n",
       "4  stddev  None    None   1.415195    1.643825   1.222475   7.424621   \n",
       "\n",
       "         EFFORT  TRANSACTIONS    ENTITIES  POINTNONADJUST  ADJUSTMENT  \\\n",
       "0     81.000000     81.000000   81.000000       81.000000   81.000000   \n",
       "1  23940.000000    886.000000  387.000000     1127.000000   52.000000   \n",
       "2   5046.308642    182.123457  122.333333      304.456790   27.629630   \n",
       "3    546.000000      9.000000    7.000000       73.000000    5.000000   \n",
       "4   4418.767228    144.035098   84.882124      180.210159   10.591795   \n",
       "\n",
       "   POINTSADJUST   LANGUAGE  \n",
       "0     81.000000  81.000000  \n",
       "1   1116.000000   3.000000  \n",
       "2    289.234568   1.555556  \n",
       "3     62.000000   1.000000  \n",
       "4    185.761088   0.707107  "
      ]
     },
     "metadata": {},
     "output_type": "display_data"
    }
   ],
   "source": [
    "snowpark_df = spe_session.table('SOFTWARE_PROJECTS')\n",
    "\n",
    "# Describing the data\n",
    "print('Rows in dataset:', f\"{snowpark_df.count():,}\")\n",
    "print('Data before imputation:')\n",
    "display(snowpark_df.describe().sort('SUMMARY').toPandas())"
   ]
  },
  {
   "cell_type": "code",
   "execution_count": 12,
   "id": "b955d62b-9af3-4088-a73b-3a4f8d797a28",
   "metadata": {},
   "outputs": [
    {
     "data": {
      "text/plain": [
       "[StructField('ID', StringType(), nullable=True),\n",
       " StructField('PROJECT', StringType(), nullable=True),\n",
       " StructField('TEAMEXP', LongType(), nullable=True),\n",
       " StructField('MANAGEREXP', LongType(), nullable=True),\n",
       " StructField('YEAREND', LongType(), nullable=True),\n",
       " StructField('LENGTH', LongType(), nullable=True),\n",
       " StructField('EFFORT', LongType(), nullable=True),\n",
       " StructField('TRANSACTIONS', LongType(), nullable=True),\n",
       " StructField('ENTITIES', LongType(), nullable=True),\n",
       " StructField('POINTNONADJUST', LongType(), nullable=True),\n",
       " StructField('ADJUSTMENT', LongType(), nullable=True),\n",
       " StructField('POINTSADJUST', LongType(), nullable=True),\n",
       " StructField('LANGUAGE', LongType(), nullable=True)]"
      ]
     },
     "execution_count": 12,
     "metadata": {},
     "output_type": "execute_result"
    }
   ],
   "source": [
    "snowpark_df.schema.fields"
   ]
  },
  {
   "cell_type": "code",
   "execution_count": 13,
   "id": "7ed78a94-1c00-4af1-867f-a8769722fb20",
   "metadata": {},
   "outputs": [],
   "source": [
    "# # Imputing missing values in numeric columns\n",
    "# numeric_types = [DecimalType(), LongType(), DoubleType(), FloatType(), IntegerType()]\n",
    "# numeric_columns = [c.name for c in snowpark_df.schema.fields if type(c.datatype) in numeric_types]\n",
    "# for column in numeric_columns:\n",
    "#     snowpark_df = snowpark_df.fillna(snowpark_df[[fn.mean(column)]].collect()[0][0], column)\n",
    "\n",
    "# # Check results\n",
    "# print('Data after imputation:')\n",
    "# display(snowpark_df.describe().sort('SUMMARY').toPandas())"
   ]
  },
  {
   "cell_type": "markdown",
   "id": "6d163a88-eaf8-4469-ba53-492cbf0a4c5c",
   "metadata": {},
   "source": [
    "### IMPUTE SOME NUMERIC X VARIABLES BY APPLYING AVERAGE directly on the base database table in snowflake"
   ]
  },
  {
   "cell_type": "code",
   "execution_count": null,
   "id": "b4585705-38d3-4862-ba63-fd5f230624f5",
   "metadata": {},
   "outputs": [],
   "source": [
    "spe_session.sql(\"update software_projects set avg_session_length = (select avg(avg_session_length) from software_projects where  avg_session_length is not null) where avg_session_length is null\").collect()\n",
    "spe_session.sql(\"update software_projects set TIME_ON_APP = (select avg(TIME_ON_APP) from software_projects where  TIME_ON_APP is not null) where TIME_ON_APP is null\").collect()\n",
    "spe_session.sql(\"update software_projects set TIME_ON_WEBSITE = (select avg(TIME_ON_WEBSITE) from software_projects where  TIME_ON_WEBSITE is not null) where TIME_ON_WEBSITE is null\").collect()\n",
    "spe_session.sql(\"update software_projects set MEMBERSHIP_LENGTH = (select avg(MEMBERSHIP_LENGTH) from software_projects where  MEMBERSHIP_LENGTH is not null) where MEMBERSHIP_LENGTH is null\").collect()\n",
    "spe_session.sql(\"update software_projects set YEARLY_SPENT = (select avg(YEARLY_SPENT) from software_projects where  YEARLY_SPENT is not null)where YEARLY_SPENT is null\").collect()"
   ]
  },
  {
   "cell_type": "markdown",
   "id": "f777e060-a781-4d0b-b1db-d08b07c1c1ec",
   "metadata": {},
   "source": [
    "### CHECK THE STATS AFTER IMPUTE"
   ]
  },
  {
   "cell_type": "code",
   "execution_count": 14,
   "id": "93cf1618-6f84-45c6-b433-12e247817661",
   "metadata": {},
   "outputs": [
    {
     "name": "stdout",
     "output_type": "stream",
     "text": [
      "Rows in dataset: 81\n",
      "Data after imputation:\n"
     ]
    },
    {
     "data": {
      "text/html": [
       "<div>\n",
       "<style scoped>\n",
       "    .dataframe tbody tr th:only-of-type {\n",
       "        vertical-align: middle;\n",
       "    }\n",
       "\n",
       "    .dataframe tbody tr th {\n",
       "        vertical-align: top;\n",
       "    }\n",
       "\n",
       "    .dataframe thead th {\n",
       "        text-align: right;\n",
       "    }\n",
       "</style>\n",
       "<table border=\"1\" class=\"dataframe\">\n",
       "  <thead>\n",
       "    <tr style=\"text-align: right;\">\n",
       "      <th></th>\n",
       "      <th>SUMMARY</th>\n",
       "      <th>ID</th>\n",
       "      <th>PROJECT</th>\n",
       "      <th>TEAMEXP</th>\n",
       "      <th>MANAGEREXP</th>\n",
       "      <th>YEAREND</th>\n",
       "      <th>LENGTH</th>\n",
       "      <th>EFFORT</th>\n",
       "      <th>TRANSACTIONS</th>\n",
       "      <th>ENTITIES</th>\n",
       "      <th>POINTNONADJUST</th>\n",
       "      <th>ADJUSTMENT</th>\n",
       "      <th>POINTSADJUST</th>\n",
       "      <th>LANGUAGE</th>\n",
       "    </tr>\n",
       "  </thead>\n",
       "  <tbody>\n",
       "    <tr>\n",
       "      <th>0</th>\n",
       "      <td>count</td>\n",
       "      <td>81</td>\n",
       "      <td>81</td>\n",
       "      <td>81.000000</td>\n",
       "      <td>81.000000</td>\n",
       "      <td>81.000000</td>\n",
       "      <td>81.000000</td>\n",
       "      <td>81.000000</td>\n",
       "      <td>81.000000</td>\n",
       "      <td>81.000000</td>\n",
       "      <td>81.000000</td>\n",
       "      <td>81.000000</td>\n",
       "      <td>81.000000</td>\n",
       "      <td>81.000000</td>\n",
       "    </tr>\n",
       "    <tr>\n",
       "      <th>1</th>\n",
       "      <td>max</td>\n",
       "      <td>9</td>\n",
       "      <td>9</td>\n",
       "      <td>4.000000</td>\n",
       "      <td>7.000000</td>\n",
       "      <td>88.000000</td>\n",
       "      <td>39.000000</td>\n",
       "      <td>23940.000000</td>\n",
       "      <td>886.000000</td>\n",
       "      <td>387.000000</td>\n",
       "      <td>1127.000000</td>\n",
       "      <td>52.000000</td>\n",
       "      <td>1116.000000</td>\n",
       "      <td>3.000000</td>\n",
       "    </tr>\n",
       "    <tr>\n",
       "      <th>2</th>\n",
       "      <td>mean</td>\n",
       "      <td>None</td>\n",
       "      <td>None</td>\n",
       "      <td>2.185185</td>\n",
       "      <td>2.530864</td>\n",
       "      <td>85.740741</td>\n",
       "      <td>11.666667</td>\n",
       "      <td>5046.308642</td>\n",
       "      <td>182.123457</td>\n",
       "      <td>122.333333</td>\n",
       "      <td>304.456790</td>\n",
       "      <td>27.629630</td>\n",
       "      <td>289.234568</td>\n",
       "      <td>1.555556</td>\n",
       "    </tr>\n",
       "    <tr>\n",
       "      <th>3</th>\n",
       "      <td>min</td>\n",
       "      <td>1</td>\n",
       "      <td>1</td>\n",
       "      <td>-1.000000</td>\n",
       "      <td>-1.000000</td>\n",
       "      <td>82.000000</td>\n",
       "      <td>1.000000</td>\n",
       "      <td>546.000000</td>\n",
       "      <td>9.000000</td>\n",
       "      <td>7.000000</td>\n",
       "      <td>73.000000</td>\n",
       "      <td>5.000000</td>\n",
       "      <td>62.000000</td>\n",
       "      <td>1.000000</td>\n",
       "    </tr>\n",
       "    <tr>\n",
       "      <th>4</th>\n",
       "      <td>stddev</td>\n",
       "      <td>None</td>\n",
       "      <td>None</td>\n",
       "      <td>1.415195</td>\n",
       "      <td>1.643825</td>\n",
       "      <td>1.222475</td>\n",
       "      <td>7.424621</td>\n",
       "      <td>4418.767228</td>\n",
       "      <td>144.035098</td>\n",
       "      <td>84.882124</td>\n",
       "      <td>180.210159</td>\n",
       "      <td>10.591795</td>\n",
       "      <td>185.761088</td>\n",
       "      <td>0.707107</td>\n",
       "    </tr>\n",
       "  </tbody>\n",
       "</table>\n",
       "</div>"
      ],
      "text/plain": [
       "  SUMMARY    ID PROJECT    TEAMEXP  MANAGEREXP    YEAREND     LENGTH  \\\n",
       "0   count    81      81  81.000000   81.000000  81.000000  81.000000   \n",
       "1     max     9       9   4.000000    7.000000  88.000000  39.000000   \n",
       "2    mean  None    None   2.185185    2.530864  85.740741  11.666667   \n",
       "3     min     1       1  -1.000000   -1.000000  82.000000   1.000000   \n",
       "4  stddev  None    None   1.415195    1.643825   1.222475   7.424621   \n",
       "\n",
       "         EFFORT  TRANSACTIONS    ENTITIES  POINTNONADJUST  ADJUSTMENT  \\\n",
       "0     81.000000     81.000000   81.000000       81.000000   81.000000   \n",
       "1  23940.000000    886.000000  387.000000     1127.000000   52.000000   \n",
       "2   5046.308642    182.123457  122.333333      304.456790   27.629630   \n",
       "3    546.000000      9.000000    7.000000       73.000000    5.000000   \n",
       "4   4418.767228    144.035098   84.882124      180.210159   10.591795   \n",
       "\n",
       "   POINTSADJUST   LANGUAGE  \n",
       "0     81.000000  81.000000  \n",
       "1   1116.000000   3.000000  \n",
       "2    289.234568   1.555556  \n",
       "3     62.000000   1.000000  \n",
       "4    185.761088   0.707107  "
      ]
     },
     "metadata": {},
     "output_type": "display_data"
    }
   ],
   "source": [
    "snowpark_df = spe_session.table('software_projects')\n",
    "\n",
    "# Describing the data\n",
    "print('Rows in dataset:', f\"{snowpark_df.count():,}\")\n",
    "print('Data after imputation:')\n",
    "display(snowpark_df.describe().sort('SUMMARY').toPandas())"
   ]
  },
  {
   "cell_type": "markdown",
   "id": "d0cec6ce-d884-4cf3-903c-160a37e0938d",
   "metadata": {},
   "source": [
    "## HERE IS WHERE WE USE THE POWER OF SNOWFLAKE WHERE WE PUSH DOWN MODEL TRAINING TO SNOWFLAKE AND SNOWFLAKE CREDITS WILL BE CONSUMED. MAKE SURE YOUR WAREHOUSE IS RIGHTLY SIZED FOR THE VOLUME OF DATA YOU ARE TRAINING THE MODEL."
   ]
  },
  {
   "cell_type": "markdown",
   "id": "daa0208a-c491-4778-a4ca-d6a0e94e505a",
   "metadata": {},
   "source": [
    "### DEFINE THE TRAINING MODEL AND FOR THIS USE CASE LET'S USE SKLEARN'S LINEAR REGRESSION MODEL"
   ]
  },
  {
   "cell_type": "code",
   "execution_count": 15,
   "id": "2d127a0c-4be9-496b-817b-e85a1e4be704",
   "metadata": {},
   "outputs": [],
   "source": [
    "features = ['TEAMEXP','MANAGEREXP','YEAREND','LENGTH','TRANSACTIONS','ENTITIES','POINTNONADJUST','ADJUSTMENT','POINTSADJUST','LANGUAGE']"
   ]
  },
  {
   "cell_type": "code",
   "execution_count": 16,
   "id": "e9632adf-5fb9-4f13-a8b1-128682528307",
   "metadata": {},
   "outputs": [],
   "source": [
    "# This local Python-function will be registered as a Stored Procedure\n",
    "\n",
    "def spec_train_lm_model(session: Session, training_table: str, sample_size_n: int, model_name: str,features:list) -> Variant:\n",
    "    # Loading data into pandas dataframe\n",
    "    local_training_data = session.table(training_table).sample(n=sample_size_n).toPandas()\n",
    "\n",
    "    # Define features and label\n",
    "    X = local_training_data[features]\n",
    "    Y = local_training_data['EFFORT']\n",
    "\n",
    "    # Splitting data into training and test\n",
    "    from sklearn.model_selection import train_test_split\n",
    "    X_train, X_test, y_train, y_test = train_test_split(X, Y, test_size=0.3, random_state=101)\n",
    "\n",
    "    # Actual model training\n",
    "    from sklearn.linear_model import LinearRegression\n",
    "    lm = LinearRegression()\n",
    "    lm.fit(X_train,y_train)\n",
    "    \n",
    "    # Getting model coefficients\n",
    "    coeff_df = pd.DataFrame(lm.coef_,X.columns,columns=['Coefficient'])\n",
    "\n",
    "    # Save model as file and upload to Snowflake stage\n",
    "    from joblib import dump, load\n",
    "    dump(lm, '/tmp/'+model_name)\n",
    "    session.file.put('/tmp/'+model_name, '@knadadur_models', auto_compress=False)\n",
    "    return coeff_df.to_dict()"
   ]
  },
  {
   "cell_type": "code",
   "execution_count": 26,
   "id": "10c7f6ed-0b99-4ba7-afc6-d5c6afa4dc59",
   "metadata": {},
   "outputs": [],
   "source": [
    "# This local Python-function will be registered as a Stored Procedure\n",
    "\n",
    "def spec_train_knn_model(session: Session, training_table: str, sample_size_n: int, model_name: str,features:list) -> Variant:\n",
    "    # Loading data into pandas dataframe\n",
    "    local_training_data = session.table(training_table).sample(n=sample_size_n).toPandas()\n",
    "\n",
    "    # Define features and label\n",
    "    X = local_training_data[features]\n",
    "    Y = local_training_data['EFFORT']\n",
    "\n",
    "    # Splitting data into training and test\n",
    "    from sklearn.model_selection import train_test_split\n",
    "    X_train, X_test, y_train, y_test = train_test_split(X, Y, test_size=0.33, random_state=30)\n",
    "\n",
    "    # Actual model training\n",
    "    from sklearn.neighbors import KNeighborsRegressor\n",
    "    knn = KNeighborsRegressor(n_neighbors=3, weights='uniform')\n",
    "    knn.fit(X_train,y_train)\n",
    "    \n",
    "    # Save model as file and upload to Snowflake stage\n",
    "    from joblib import dump, load\n",
    "    dump(knn, '/tmp/'+model_name)\n",
    "    session.file.put('/tmp/'+model_name, '@knadadur_models', auto_compress=False)\n",
    "\n",
    "    # Getting model score\n",
    "    return knn.score(X_test, y_test)\n"
   ]
  },
  {
   "cell_type": "markdown",
   "id": "72ee42d2-dbc9-4b6d-9751-70cbdecadb4e",
   "metadata": {},
   "source": [
    "### REGISTER THE \"MODEL TRAINING\" AS \"STORED PROCEDURE\" IN SNOWFLAKE USING THE DEFINED FUNCTION ABOVE"
   ]
  },
  {
   "cell_type": "code",
   "execution_count": 17,
   "id": "23a0d73f-a208-4007-9cae-3f9727132c33",
   "metadata": {},
   "outputs": [],
   "source": [
    "# Registering the function as a Stored Procedure\n",
    "spec_linear_model_sproc = spe_session.sproc.register(func=spec_train_lm_model, # training function defined above\n",
    "                                            name='spec_train_lm_model', # training model name to be registered in snowlake\n",
    "                                            is_permanent=True, # permanent stored proc\n",
    "                                            replace=True, # replace if existing already\n",
    "                                            stage_location='@knadadur_models', # save the model in stage location\n",
    "                                            packages=['snowflake-snowpark-python','scikit-learn','joblib']) \n",
    "                                                                        # import model libaries\n"
   ]
  },
  {
   "cell_type": "code",
   "execution_count": 27,
   "id": "eab3b7b6-c018-4874-b916-66423abb56ab",
   "metadata": {},
   "outputs": [],
   "source": [
    "# Registering the function as a Stored Procedure\n",
    "spec_knn_sproc = spe_session.sproc.register(func=spec_train_knn_model, # training function defined above\n",
    "                                            name='spec_train_knn_model', # training model name to be registered in snowlake\n",
    "                                            is_permanent=True, # permanent stored proc\n",
    "                                            replace=True, # replace if existing already\n",
    "                                            stage_location='@knadadur_models', # save the model in stage location\n",
    "                                            packages=['snowflake-snowpark-python','scikit-learn','joblib']) \n",
    "                                                                        # import model libaries\n"
   ]
  },
  {
   "cell_type": "code",
   "execution_count": 19,
   "id": "553b0cd1-4764-450a-826d-f440a7262dfc",
   "metadata": {},
   "outputs": [
    {
     "data": {
      "text/plain": [
       "[Row(name='knadadur_models/spec_train_lm_model.sav', size=1120, md5='812c306685523801fa990c6451313eaa', last_modified='Tue, 8 Nov 2022 06:06:25 GMT')]"
      ]
     },
     "execution_count": 19,
     "metadata": {},
     "output_type": "execute_result"
    }
   ],
   "source": [
    "spe_session.sql(\"list @knadadur_models\").collect()"
   ]
  },
  {
   "cell_type": "markdown",
   "id": "14fd4ee8-ecf9-4bb0-a259-f4f8edd85c06",
   "metadata": {},
   "source": [
    "### EXECUTE THE MODEL TRAINING FROM THE NOTEBOOK BUT THE EXECUTION HAPPENS IN SNOWFLAKE AND THE CREDITS WILL BE CONSUMED."
   ]
  },
  {
   "cell_type": "code",
   "execution_count": 18,
   "id": "baae0c33-fc85-4a86-9591-360521471154",
   "metadata": {},
   "outputs": [
    {
     "data": {
      "text/html": [
       "<div>\n",
       "<style scoped>\n",
       "    .dataframe tbody tr th:only-of-type {\n",
       "        vertical-align: middle;\n",
       "    }\n",
       "\n",
       "    .dataframe tbody tr th {\n",
       "        vertical-align: top;\n",
       "    }\n",
       "\n",
       "    .dataframe thead th {\n",
       "        text-align: right;\n",
       "    }\n",
       "</style>\n",
       "<table border=\"1\" class=\"dataframe\">\n",
       "  <thead>\n",
       "    <tr style=\"text-align: right;\">\n",
       "      <th></th>\n",
       "      <th>Coefficient</th>\n",
       "    </tr>\n",
       "  </thead>\n",
       "  <tbody>\n",
       "    <tr>\n",
       "      <th>ADJUSTMENT</th>\n",
       "      <td>-115.172760</td>\n",
       "    </tr>\n",
       "    <tr>\n",
       "      <th>ENTITIES</th>\n",
       "      <td>-11.289223</td>\n",
       "    </tr>\n",
       "    <tr>\n",
       "      <th>LANGUAGE</th>\n",
       "      <td>-2045.495580</td>\n",
       "    </tr>\n",
       "    <tr>\n",
       "      <th>LENGTH</th>\n",
       "      <td>169.647656</td>\n",
       "    </tr>\n",
       "    <tr>\n",
       "      <th>MANAGEREXP</th>\n",
       "      <td>70.762307</td>\n",
       "    </tr>\n",
       "    <tr>\n",
       "      <th>POINTNONADJUST</th>\n",
       "      <td>-33.211573</td>\n",
       "    </tr>\n",
       "    <tr>\n",
       "      <th>POINTSADJUST</th>\n",
       "      <td>66.998785</td>\n",
       "    </tr>\n",
       "    <tr>\n",
       "      <th>TEAMEXP</th>\n",
       "      <td>-338.509993</td>\n",
       "    </tr>\n",
       "    <tr>\n",
       "      <th>TRANSACTIONS</th>\n",
       "      <td>-21.922350</td>\n",
       "    </tr>\n",
       "    <tr>\n",
       "      <th>YEAREND</th>\n",
       "      <td>326.371732</td>\n",
       "    </tr>\n",
       "  </tbody>\n",
       "</table>\n",
       "</div>"
      ],
      "text/plain": [
       "                Coefficient\n",
       "ADJUSTMENT      -115.172760\n",
       "ENTITIES         -11.289223\n",
       "LANGUAGE       -2045.495580\n",
       "LENGTH           169.647656\n",
       "MANAGEREXP        70.762307\n",
       "POINTNONADJUST   -33.211573\n",
       "POINTSADJUST      66.998785\n",
       "TEAMEXP         -338.509993\n",
       "TRANSACTIONS     -21.922350\n",
       "YEAREND          326.371732"
      ]
     },
     "metadata": {},
     "output_type": "display_data"
    }
   ],
   "source": [
    "# Execute the Stored Procedure to train a model and display coefficients\n",
    "spec_lm_coefficients = spec_linear_model_sproc('software_projects',100, 'spec_train_lm_model.sav',features)\n",
    "#avoid passing the session parameter as remembers from the stored proc registered\n",
    "#pass the train_set , data limit and the model file name to be saved\n",
    "display(pd.DataFrame(eval(spec_lm_coefficients)))"
   ]
  },
  {
   "cell_type": "code",
   "execution_count": 30,
   "id": "25eb99ab-71c0-469d-80e7-550273c347e2",
   "metadata": {},
   "outputs": [
    {
     "data": {
      "text/plain": [
       "'0.7450919920378207'"
      ]
     },
     "execution_count": 30,
     "metadata": {},
     "output_type": "execute_result"
    }
   ],
   "source": [
    "# Execute the Stored Procedure to train a model and display coefficients\n",
    "spec_knn_score = spec_knn_sproc('software_projects',100, 'spec_train_knn_model.sav',features)\n",
    "#avoid passing the session parameter as remembers from the stored proc registered\n",
    "#pass the train_set , data limit and the model file name to be saved\n",
    "spec_knn_score"
   ]
  },
  {
   "cell_type": "markdown",
   "id": "da76df3f-bc2a-438c-8714-2beefe3cf1e1",
   "metadata": {},
   "source": [
    "### CHECK IF THE MODEL FILE IS CREATED"
   ]
  },
  {
   "cell_type": "code",
   "execution_count": null,
   "id": "4705638c-15fd-45e3-adbf-7b5a46e1989c",
   "metadata": {},
   "outputs": [],
   "source": [
    "spe_session.sql(\"list @knadadur_models\").collect()"
   ]
  },
  {
   "cell_type": "markdown",
   "id": "fec457a4-8f44-411d-abc3-aee604bd08e6",
   "metadata": {},
   "source": [
    "## NOW THAT THE MODEL HAS BEEN TRAINED USING SNOWFLAKE STORED PROC AND THE MODEL FILE IS NOW SAVED IN THE STAGING ENVIRONMENT LET'S TRY TO INFER FROM THE MODEL TO PREDICT"
   ]
  },
  {
   "cell_type": "markdown",
   "id": "27dd311c-bdd8-4806-ab37-297241623031",
   "metadata": {},
   "source": [
    "### IMPORT THE LIBRARIES REQUIRED FOR INFERENCE"
   ]
  },
  {
   "cell_type": "code",
   "execution_count": 33,
   "id": "9d7b4c09-f706-4ca1-a1f0-70caa03e010c",
   "metadata": {},
   "outputs": [],
   "source": [
    "from snowflake.snowpark.functions import pandas_udf\n",
    "from cachetools import cached"
   ]
  },
  {
   "cell_type": "markdown",
   "id": "e63e798a-6d22-415d-a9c2-405e47a63657",
   "metadata": {},
   "source": [
    "### DEFINE THE INFERENCE TO PREDICT FROM THE MODEL SAVED IN THE INTERNAL STAGE DIRECTORY IN SNOWFLAKE"
   ]
  },
  {
   "cell_type": "code",
   "execution_count": 40,
   "id": "95e98212-3e73-4df0-9141-62a63c1128f5",
   "metadata": {},
   "outputs": [],
   "source": [
    "@cached(cache={})\n",
    "def load_model(model_path: str) -> object:\n",
    "    from joblib import load\n",
    "    model = load(model_path)\n",
    "    return model\n",
    "### define the datatypes for the number of input variables here in score_model function\n",
    "def score_model(df: PandasDataFrame[int,int,int,int,int,int,int,int,int,int]) -> PandasSeries[float]:\n",
    "    import os\n",
    "    import sys\n",
    "    IMPORT_DIRECTORY_NAME = \"snowflake_import_directory\"\n",
    "    import_dir = sys._xoptions[IMPORT_DIRECTORY_NAME]\n",
    "    model_name = 'spec_train_lm_model.sav'\n",
    "    model = load_model(import_dir+model_name)\n",
    "    return pd.Series(model.predict(df))"
   ]
  },
  {
   "cell_type": "markdown",
   "id": "1d2e69ca-e251-49d4-97ad-49d8a26fa6af",
   "metadata": {},
   "source": [
    "### DEFINE THE MODEL INFERENCE IN A USER DEFINED FUNCTION (UDF)"
   ]
  },
  {
   "cell_type": "code",
   "execution_count": 41,
   "id": "fd731520-b754-4e91-8d6f-a9d0bfe6043b",
   "metadata": {},
   "outputs": [
    {
     "name": "stderr",
     "output_type": "stream",
     "text": [
      "The version of package scikit-learn in the local environment is 1.1.2, which does not fit the criteria for the requirement scikit-learn==1.0.2. Your UDF might not work when the package version is different between the server and your local environment\n"
     ]
    }
   ],
   "source": [
    "lm_model_udf = pandas_udf(func=score_model, \n",
    "                           name=\"spec_lm_prediction_vec\", \n",
    "                           stage_location='@knadadur_models',\n",
    "                           replace=True, \n",
    "                           is_permanent=True, \n",
    "                           imports=['@knadadur_models/spec_train_lm_model.sav'],\n",
    "                           packages=['scikit-learn==1.0.2','pandas','joblib','cachetools'], \n",
    "                           max_batch_size=100, \n",
    "                           session=spe_session)"
   ]
  },
  {
   "cell_type": "code",
   "execution_count": 42,
   "id": "c99aafc6-6592-4c8a-a2b6-6d7ac303711c",
   "metadata": {},
   "outputs": [],
   "source": [
    "@cached(cache={})\n",
    "def load_model(model_path: str) -> object:\n",
    "    from joblib import load\n",
    "    model = load(model_path)\n",
    "    return model\n",
    "### define the datatypes for the number of input variables here in score_model function\n",
    "def score_knn_model(df: PandasDataFrame[int,int,int,int,int,int,int,int,int,int]) -> PandasSeries[float]:\n",
    "    import os\n",
    "    import sys\n",
    "    IMPORT_DIRECTORY_NAME = \"snowflake_import_directory\"\n",
    "    import_dir = sys._xoptions[IMPORT_DIRECTORY_NAME]\n",
    "    model_name = 'spec_train_knn_model.sav'\n",
    "    model = load_model(import_dir+model_name)\n",
    "    return pd.Series(model.predict(df))"
   ]
  },
  {
   "cell_type": "code",
   "execution_count": 43,
   "id": "39baefde-d9a3-4266-8d65-5d905471ee8f",
   "metadata": {},
   "outputs": [
    {
     "name": "stderr",
     "output_type": "stream",
     "text": [
      "The version of package scikit-learn in the local environment is 1.1.2, which does not fit the criteria for the requirement scikit-learn==1.0.2. Your UDF might not work when the package version is different between the server and your local environment\n"
     ]
    }
   ],
   "source": [
    "knn_model_udf = pandas_udf(func=score_knn_model, \n",
    "                           name=\"spec_knn_prediction_vec\", \n",
    "                           stage_location='@knadadur_models',\n",
    "                           replace=True, \n",
    "                           is_permanent=True, \n",
    "                           imports=['@knadadur_models/spec_train_knn_model.sav'],\n",
    "                           packages=['scikit-learn==1.0.2','pandas','joblib','cachetools'], \n",
    "                           max_batch_size=100, \n",
    "                           session=spe_session)"
   ]
  },
  {
   "cell_type": "markdown",
   "id": "4df76876-7694-4e2b-b922-dcbe269b6044",
   "metadata": {},
   "source": [
    "### DEFINE THE FEATURES (X VARIABLES) TO INFER"
   ]
  },
  {
   "cell_type": "markdown",
   "id": "cc79caff-1b5b-4065-a5f8-b56550313b7d",
   "metadata": {},
   "source": [
    "### CALL THE INFERENCE LIKE HOW YOU WOULD ON A SIMPLE SQL STATEMENT USING THE vec_model_udf that was defined previously"
   ]
  },
  {
   "cell_type": "code",
   "execution_count": 44,
   "id": "58ac70ee-d8a6-451e-bd1d-9c8a5ed69a3f",
   "metadata": {},
   "outputs": [
    {
     "data": {
      "text/html": [
       "<div>\n",
       "<style scoped>\n",
       "    .dataframe tbody tr th:only-of-type {\n",
       "        vertical-align: middle;\n",
       "    }\n",
       "\n",
       "    .dataframe tbody tr th {\n",
       "        vertical-align: top;\n",
       "    }\n",
       "\n",
       "    .dataframe thead th {\n",
       "        text-align: right;\n",
       "    }\n",
       "</style>\n",
       "<table border=\"1\" class=\"dataframe\">\n",
       "  <thead>\n",
       "    <tr style=\"text-align: right;\">\n",
       "      <th></th>\n",
       "      <th>ID</th>\n",
       "      <th>PROJECT</th>\n",
       "      <th>TEAMEXP</th>\n",
       "      <th>MANAGEREXP</th>\n",
       "      <th>YEAREND</th>\n",
       "      <th>LENGTH</th>\n",
       "      <th>TRANSACTIONS</th>\n",
       "      <th>ENTITIES</th>\n",
       "      <th>POINTNONADJUST</th>\n",
       "      <th>ADJUSTMENT</th>\n",
       "      <th>POINTSADJUST</th>\n",
       "      <th>LANGUAGE</th>\n",
       "      <th>ACTUAL_EFFORT</th>\n",
       "      <th>LM_PREDICTED_EFFORT</th>\n",
       "      <th>KNN_PREDICTED_EFFORT</th>\n",
       "      <th>LM_DELTA</th>\n",
       "      <th>KNN_DELTA</th>\n",
       "    </tr>\n",
       "  </thead>\n",
       "  <tbody>\n",
       "    <tr>\n",
       "      <th>0</th>\n",
       "      <td>1</td>\n",
       "      <td>1</td>\n",
       "      <td>1</td>\n",
       "      <td>4</td>\n",
       "      <td>85</td>\n",
       "      <td>12</td>\n",
       "      <td>253</td>\n",
       "      <td>52</td>\n",
       "      <td>305</td>\n",
       "      <td>34</td>\n",
       "      <td>302</td>\n",
       "      <td>1</td>\n",
       "      <td>5152</td>\n",
       "      <td>5962.453231</td>\n",
       "      <td>4911.666667</td>\n",
       "      <td>810.453231</td>\n",
       "      <td>-240.333333</td>\n",
       "    </tr>\n",
       "    <tr>\n",
       "      <th>1</th>\n",
       "      <td>2</td>\n",
       "      <td>2</td>\n",
       "      <td>0</td>\n",
       "      <td>0</td>\n",
       "      <td>86</td>\n",
       "      <td>4</td>\n",
       "      <td>197</td>\n",
       "      <td>124</td>\n",
       "      <td>321</td>\n",
       "      <td>33</td>\n",
       "      <td>315</td>\n",
       "      <td>1</td>\n",
       "      <td>5635</td>\n",
       "      <td>5856.703820</td>\n",
       "      <td>5196.333333</td>\n",
       "      <td>221.703820</td>\n",
       "      <td>-438.666667</td>\n",
       "    </tr>\n",
       "    <tr>\n",
       "      <th>2</th>\n",
       "      <td>3</td>\n",
       "      <td>3</td>\n",
       "      <td>4</td>\n",
       "      <td>4</td>\n",
       "      <td>85</td>\n",
       "      <td>1</td>\n",
       "      <td>40</td>\n",
       "      <td>60</td>\n",
       "      <td>100</td>\n",
       "      <td>18</td>\n",
       "      <td>83</td>\n",
       "      <td>1</td>\n",
       "      <td>805</td>\n",
       "      <td>1638.348630</td>\n",
       "      <td>1753.666667</td>\n",
       "      <td>833.348630</td>\n",
       "      <td>948.666667</td>\n",
       "    </tr>\n",
       "    <tr>\n",
       "      <th>3</th>\n",
       "      <td>4</td>\n",
       "      <td>4</td>\n",
       "      <td>0</td>\n",
       "      <td>0</td>\n",
       "      <td>86</td>\n",
       "      <td>5</td>\n",
       "      <td>200</td>\n",
       "      <td>119</td>\n",
       "      <td>319</td>\n",
       "      <td>30</td>\n",
       "      <td>303</td>\n",
       "      <td>1</td>\n",
       "      <td>3829</td>\n",
       "      <td>5624.986552</td>\n",
       "      <td>5196.333333</td>\n",
       "      <td>1795.986552</td>\n",
       "      <td>1367.333333</td>\n",
       "    </tr>\n",
       "    <tr>\n",
       "      <th>4</th>\n",
       "      <td>5</td>\n",
       "      <td>5</td>\n",
       "      <td>0</td>\n",
       "      <td>0</td>\n",
       "      <td>86</td>\n",
       "      <td>4</td>\n",
       "      <td>140</td>\n",
       "      <td>94</td>\n",
       "      <td>234</td>\n",
       "      <td>24</td>\n",
       "      <td>208</td>\n",
       "      <td>1</td>\n",
       "      <td>2149</td>\n",
       "      <td>4202.046207</td>\n",
       "      <td>2648.333333</td>\n",
       "      <td>2053.046207</td>\n",
       "      <td>499.333333</td>\n",
       "    </tr>\n",
       "    <tr>\n",
       "      <th>...</th>\n",
       "      <td>...</td>\n",
       "      <td>...</td>\n",
       "      <td>...</td>\n",
       "      <td>...</td>\n",
       "      <td>...</td>\n",
       "      <td>...</td>\n",
       "      <td>...</td>\n",
       "      <td>...</td>\n",
       "      <td>...</td>\n",
       "      <td>...</td>\n",
       "      <td>...</td>\n",
       "      <td>...</td>\n",
       "      <td>...</td>\n",
       "      <td>...</td>\n",
       "      <td>...</td>\n",
       "      <td>...</td>\n",
       "      <td>...</td>\n",
       "    </tr>\n",
       "    <tr>\n",
       "      <th>76</th>\n",
       "      <td>77</td>\n",
       "      <td>77</td>\n",
       "      <td>4</td>\n",
       "      <td>4</td>\n",
       "      <td>85</td>\n",
       "      <td>12</td>\n",
       "      <td>229</td>\n",
       "      <td>169</td>\n",
       "      <td>398</td>\n",
       "      <td>39</td>\n",
       "      <td>414</td>\n",
       "      <td>3</td>\n",
       "      <td>1400</td>\n",
       "      <td>3900.553187</td>\n",
       "      <td>4365.666667</td>\n",
       "      <td>2500.553187</td>\n",
       "      <td>2965.666667</td>\n",
       "    </tr>\n",
       "    <tr>\n",
       "      <th>77</th>\n",
       "      <td>78</td>\n",
       "      <td>78</td>\n",
       "      <td>4</td>\n",
       "      <td>3</td>\n",
       "      <td>83</td>\n",
       "      <td>12</td>\n",
       "      <td>227</td>\n",
       "      <td>73</td>\n",
       "      <td>300</td>\n",
       "      <td>34</td>\n",
       "      <td>297</td>\n",
       "      <td>1</td>\n",
       "      <td>2800</td>\n",
       "      <td>4387.388842</td>\n",
       "      <td>4785.666667</td>\n",
       "      <td>1587.388842</td>\n",
       "      <td>1985.666667</td>\n",
       "    </tr>\n",
       "    <tr>\n",
       "      <th>78</th>\n",
       "      <td>79</td>\n",
       "      <td>79</td>\n",
       "      <td>4</td>\n",
       "      <td>4</td>\n",
       "      <td>82</td>\n",
       "      <td>24</td>\n",
       "      <td>395</td>\n",
       "      <td>193</td>\n",
       "      <td>588</td>\n",
       "      <td>40</td>\n",
       "      <td>617</td>\n",
       "      <td>1</td>\n",
       "      <td>9520</td>\n",
       "      <td>12313.531190</td>\n",
       "      <td>9753.333333</td>\n",
       "      <td>2793.531190</td>\n",
       "      <td>233.333333</td>\n",
       "    </tr>\n",
       "    <tr>\n",
       "      <th>79</th>\n",
       "      <td>80</td>\n",
       "      <td>80</td>\n",
       "      <td>4</td>\n",
       "      <td>3</td>\n",
       "      <td>86</td>\n",
       "      <td>12</td>\n",
       "      <td>469</td>\n",
       "      <td>176</td>\n",
       "      <td>645</td>\n",
       "      <td>43</td>\n",
       "      <td>697</td>\n",
       "      <td>3</td>\n",
       "      <td>5880</td>\n",
       "      <td>9112.480495</td>\n",
       "      <td>9753.333333</td>\n",
       "      <td>3232.480495</td>\n",
       "      <td>3873.333333</td>\n",
       "    </tr>\n",
       "    <tr>\n",
       "      <th>80</th>\n",
       "      <td>81</td>\n",
       "      <td>81</td>\n",
       "      <td>4</td>\n",
       "      <td>4</td>\n",
       "      <td>85</td>\n",
       "      <td>36</td>\n",
       "      <td>886</td>\n",
       "      <td>241</td>\n",
       "      <td>1127</td>\n",
       "      <td>34</td>\n",
       "      <td>1116</td>\n",
       "      <td>1</td>\n",
       "      <td>23940</td>\n",
       "      <td>20245.053869</td>\n",
       "      <td>13384.000000</td>\n",
       "      <td>-3694.946131</td>\n",
       "      <td>-10556.000000</td>\n",
       "    </tr>\n",
       "  </tbody>\n",
       "</table>\n",
       "<p>81 rows × 17 columns</p>\n",
       "</div>"
      ],
      "text/plain": [
       "    ID PROJECT  TEAMEXP  MANAGEREXP  YEAREND  LENGTH  TRANSACTIONS  ENTITIES  \\\n",
       "0    1       1        1           4       85      12           253        52   \n",
       "1    2       2        0           0       86       4           197       124   \n",
       "2    3       3        4           4       85       1            40        60   \n",
       "3    4       4        0           0       86       5           200       119   \n",
       "4    5       5        0           0       86       4           140        94   \n",
       "..  ..     ...      ...         ...      ...     ...           ...       ...   \n",
       "76  77      77        4           4       85      12           229       169   \n",
       "77  78      78        4           3       83      12           227        73   \n",
       "78  79      79        4           4       82      24           395       193   \n",
       "79  80      80        4           3       86      12           469       176   \n",
       "80  81      81        4           4       85      36           886       241   \n",
       "\n",
       "    POINTNONADJUST  ADJUSTMENT  POINTSADJUST  LANGUAGE  ACTUAL_EFFORT  \\\n",
       "0              305          34           302         1           5152   \n",
       "1              321          33           315         1           5635   \n",
       "2              100          18            83         1            805   \n",
       "3              319          30           303         1           3829   \n",
       "4              234          24           208         1           2149   \n",
       "..             ...         ...           ...       ...            ...   \n",
       "76             398          39           414         3           1400   \n",
       "77             300          34           297         1           2800   \n",
       "78             588          40           617         1           9520   \n",
       "79             645          43           697         3           5880   \n",
       "80            1127          34          1116         1          23940   \n",
       "\n",
       "    LM_PREDICTED_EFFORT  KNN_PREDICTED_EFFORT     LM_DELTA     KNN_DELTA  \n",
       "0           5962.453231           4911.666667   810.453231   -240.333333  \n",
       "1           5856.703820           5196.333333   221.703820   -438.666667  \n",
       "2           1638.348630           1753.666667   833.348630    948.666667  \n",
       "3           5624.986552           5196.333333  1795.986552   1367.333333  \n",
       "4           4202.046207           2648.333333  2053.046207    499.333333  \n",
       "..                  ...                   ...          ...           ...  \n",
       "76          3900.553187           4365.666667  2500.553187   2965.666667  \n",
       "77          4387.388842           4785.666667  1587.388842   1985.666667  \n",
       "78         12313.531190           9753.333333  2793.531190    233.333333  \n",
       "79          9112.480495           9753.333333  3232.480495   3873.333333  \n",
       "80         20245.053869          13384.000000 -3694.946131 -10556.000000  \n",
       "\n",
       "[81 rows x 17 columns]"
      ]
     },
     "execution_count": 44,
     "metadata": {},
     "output_type": "execute_result"
    }
   ],
   "source": [
    "output = snowpark_df.limit(10000).select('ID',\n",
    "                                         'PROJECT',\n",
    "                                      *features,\n",
    "                                      fn.col('EFFORT').alias('ACTUAL_EFFORT'),\n",
    "                                      lm_model_udf(*features).alias('lm_PREDICTED_EFFORT'), # calling the model running in Snowflake (user-defined function)\n",
    "                                      knn_model_udf(*features).alias('knn_PREDICTED_EFFORT'), # calling the model running in Snowflake (user-defined function)\n",
    "                                      (lm_model_udf(*features) - fn.col('ACTUAL_EFFORT')).alias('lm_DELTA'),                                      \n",
    "                                      (knn_model_udf(*features) - fn.col('ACTUAL_EFFORT')).alias('knn_DELTA')\n",
    "                                     ).toPandas()\n",
    "output"
   ]
  },
  {
   "cell_type": "markdown",
   "id": "01755752-1f83-46ba-995f-4f9144cb4183",
   "metadata": {},
   "source": [
    "### TIME TO WRAP AND CLOSE THE SNOWFLAKE SESSION"
   ]
  },
  {
   "cell_type": "code",
   "execution_count": null,
   "id": "e0bcb52e-3762-4177-9907-00c25bb3e9de",
   "metadata": {},
   "outputs": [],
   "source": [
    "spe_session.close()\n",
    "print('Finished!!!')"
   ]
  },
  {
   "cell_type": "code",
   "execution_count": null,
   "id": "605aa558-ac52-4a64-90a8-fc7b22930943",
   "metadata": {},
   "outputs": [],
   "source": []
  }
 ],
 "metadata": {
  "kernelspec": {
   "display_name": "Python 3 (ipykernel)",
   "language": "python",
   "name": "python3"
  },
  "language_info": {
   "codemirror_mode": {
    "name": "ipython",
    "version": 3
   },
   "file_extension": ".py",
   "mimetype": "text/x-python",
   "name": "python",
   "nbconvert_exporter": "python",
   "pygments_lexer": "ipython3",
   "version": "3.8.13"
  }
 },
 "nbformat": 4,
 "nbformat_minor": 5
}
